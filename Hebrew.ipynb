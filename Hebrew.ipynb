{
 "cells": [
  {
   "cell_type": "markdown",
   "id": "04a3a55d-260f-4078-86b7-7348498f53a6",
   "metadata": {},
   "source": [
    "# Question 1 \n",
    "Fetch and return the content of an article from the specified URL. Additionally, save the content to a file."
   ]
  },
  {
   "cell_type": "code",
   "execution_count": 1,
   "id": "d0b19065-cd22-4f28-a34c-32e209a1b7fe",
   "metadata": {},
   "outputs": [],
   "source": [
    "#!pip install bs4\n",
    "import requests\n",
    "from bs4 import BeautifulSoup\n",
    "def get_article_content(url='https://www.ynet.co.il/news/article/hj5gj13yp'):\n",
    "    # Given a URL, this function will return the article content in a string form\n",
    "    # as well as saving the content to a file.\n",
    "    response = requests.get(url)\n",
    "    soup = BeautifulSoup(response.text, \"html.parser\")\n",
    "\n",
    "    # Fetch the text via the class name (might need to change it for other websites)\n",
    "    # This class name is applicable for some articles on ynet.co.il\n",
    "    class_name = \"public-DraftEditor-content\"\n",
    "    article_content = soup.find(\"div\", {\"class\": class_name})\n",
    "\n",
    "    if article_content:\n",
    "        article_text = article_content.get_text()\n",
    "        print(\"The content was saved to a file\")\n",
    "        with open(\"article_content.txt\", \"w\", encoding=\"utf-8\") as file:\n",
    "            file.write(article_text)\n",
    "        return article_text\n",
    "    else:\n",
    "        print(\"Article content wasnt fetched\")\n"
   ]
  },
  {
   "cell_type": "markdown",
   "id": "0f450b0c-561d-4e16-8916-1d0b9ff844f0",
   "metadata": {
    "editable": true,
    "slideshow": {
     "slide_type": ""
    },
    "tags": []
   },
   "source": [
    "# Question 2\n",
    "## Idea\n",
    "I approached the problem in following way:\n",
    "1. Use regex in order to identify the words that represent a number in hebrew within a text, using a set of indicative words\n",
    "2. Translate those words into English\n",
    "3. Convert the English words into integers\n",
    "4. Replace the Hebrew words in the original text with their corresponding integers"
   ]
  },
  {
   "cell_type": "code",
   "execution_count": 2,
   "id": "42941ab2-e32a-48b8-be27-4a03732bce97",
   "metadata": {},
   "outputs": [],
   "source": [
    "heb_numbers_keywords = ['אחת', 'שתיים', 'שלוש', 'ארבע', 'חמש', 'שש', 'שבע', 'שמונה', 'תשע', 'עשר', 'עשרה', 'עשרים',\n",
    "                        'שלושים', 'ארבעים', 'חמישים', 'שישים', 'שבעים', 'שמונים', 'תשעים', 'מאה', 'מאתיים', 'שלוש מאות',\n",
    "                        'ארבע מאות', 'חמש מאות', 'שש מאות', 'שבע מאות', 'שמונה מאות', 'תשע מאות', 'אלף', 'אלפיים',\n",
    "                        'שלושת אלפים', 'ארבעת אלפים', 'חמשת אלפים', 'ששת אלפים', 'שבעת אלפים', 'שמונת אלפים',\n",
    "                        'תשעת אלפים', 'עשרת אלפים', 'מיליון', 'אחת', 'אחד',  'שתי', 'שתיים', 'שניים', 'שלוש',\n",
    "                        'שלושה', 'ארבע', 'ארבעה', 'חמש', 'חמישה', 'שש', 'שישה', 'שבע', 'שבעה', 'שמונה', 'תשע', 'תשעה',\n",
    "                        'עשר', 'עשרה']"
   ]
  },
  {
   "cell_type": "code",
   "execution_count": 3,
   "id": "ed4aa413-69f5-4393-baff-913a13d2c7b4",
   "metadata": {
    "editable": true,
    "slideshow": {
     "slide_type": ""
    },
    "tags": []
   },
   "outputs": [],
   "source": [
    "#!pip install word2number\n",
    "from word2number import w2n\n",
    "import re"
   ]
  },
  {
   "cell_type": "markdown",
   "id": "01b2c47f-b477-4bfc-9b3f-3982c6bba649",
   "metadata": {},
   "source": [
    "## Implementation\n",
    "The function find_sequences recieves two arguments: the text to search in and the list of words to search for.\n",
    "\n",
    "This regex was designed with hebrew linguistics in mind, capturing single words that represent a number of a \"string\" of words that together form a number i.e \"מאה חמישים ושלוש\""
   ]
  },
  {
   "cell_type": "code",
   "execution_count": 4,
   "id": "9397f25f-1902-48c8-b509-2a0910676ab0",
   "metadata": {},
   "outputs": [],
   "source": [
    "def find_sequences(sentence, words):\n",
    "    pattern = (\n",
    "        r\"\\b(?:[א-ת]?\"\n",
    "        + \"|[א-ת]?\".join(words)\n",
    "        + r\")(?:\\s(?:ו?\"\n",
    "        + \"|ו?\".join(words)\n",
    "        + r\"))*\\b\"\n",
    "    )\n",
    "    matches = re.findall(pattern, sentence)\n",
    "    return matches\n"
   ]
  },
  {
   "cell_type": "markdown",
   "id": "6ee4e82f-4cd7-4715-8eea-83d418bce431",
   "metadata": {},
   "source": [
    "The translation function from hebrew to english."
   ]
  },
  {
   "cell_type": "code",
   "execution_count": 5,
   "id": "e51bdf38-276b-43cd-a105-2ef2cafb35ed",
   "metadata": {},
   "outputs": [],
   "source": [
    "#!pip install translate\n",
    "from translate import Translator\n",
    "\n",
    "def translate_hebrew_to_english(text):\n",
    "    translator = Translator(to_lang=\"en\", from_lang=\"he\")\n",
    "    translation = translator.translate(text)\n",
    "    return translation"
   ]
  },
  {
   "cell_type": "markdown",
   "id": "861a9c50-0670-4e66-97ae-04f18f8f21c6",
   "metadata": {},
   "source": [
    "Now we want to retrieve a list of words for replacement in the text.\n",
    "* This function \n",
    "    * identifies Hebrew numbers in the text using the find_sequences function\n",
    "    * translates them to English using the translate_hebrew_to_english function\n",
    "    * converts the translated words into integers using the word_to_num function from the word2number library.\n",
    "\n",
    "* The information is aggregated into a list containing sublists of (English number, Hebrew number, the number as an integer).\n",
    "\n"
   ]
  },
  {
   "cell_type": "code",
   "execution_count": 6,
   "id": "4c98859b",
   "metadata": {},
   "outputs": [],
   "source": [
    "def get_words_to_replace(text):\n",
    "    words_to_replace = find_sequences(text, heb_numbers_keywords)\n",
    "    eng_version = [translate_hebrew_to_english(w) for w in words_to_replace]\n",
    "    nums = []\n",
    "    for w in eng_version:\n",
    "        try:\n",
    "            nums.append(w2n.word_to_num(w))\n",
    "        except:\n",
    "            # One of the values wasn't translated correctly\n",
    "            nums.append(\"\")\n",
    "            pass\n",
    "\n",
    "    eng_heb_dict = list(zip(eng_version, words_to_replace, nums))\n",
    "    sorted_words = sorted(eng_heb_dict, key=lambda x: len(x[1]), reverse=True)\n",
    "\n",
    "    # If the english word was empty after translation, something went wrong with the translation.\n",
    "    # Therefore, don't change that word.\n",
    "    filtered_list = [(eng, heb, num) for eng, heb, num in sorted_words if num != '']\n",
    "    return filtered_list"
   ]
  },
  {
   "cell_type": "markdown",
   "id": "d11826f8",
   "metadata": {},
   "source": [
    "After implementing the previous functions, I combined them into a single function. \n",
    "\n",
    "This function also includes the additional functionality of replacing each word in the text that represents a number with the actual numerical value."
   ]
  },
  {
   "cell_type": "code",
   "execution_count": 7,
   "id": "a8aadb69",
   "metadata": {},
   "outputs": [],
   "source": [
    "def question2(text):\n",
    "    values_to_replace = get_words_to_replace(text)\n",
    "    for t in values_to_replace:\n",
    "        old_text_heb = t[1]\n",
    "        new_text_num = t[2]\n",
    "        text = text.replace(old_text_heb, str(new_text_num))\n",
    "    with open('modified_content.txt','w' ) as file:\n",
    "        file.write(text)\n",
    "    return text"
   ]
  },
  {
   "cell_type": "markdown",
   "id": "79a6f04b",
   "metadata": {},
   "source": [
    "## Tests - Question 2\n",
    "I checked 5 articles, from the same news website, counting manually the number of occurences of words that represent number and compared it to the function's output."
   ]
  },
  {
   "cell_type": "code",
   "execution_count": 8,
   "id": "d3871129",
   "metadata": {},
   "outputs": [
    {
     "name": "stdout",
     "output_type": "stream",
     "text": [
      "The content was saved to a file\n",
      "The content was saved to a file\n",
      "The content was saved to a file\n",
      "The content was saved to a file\n",
      "The content was saved to a file\n",
      "Amount of words detected by the function [13, 3, 1, 9, 2]\n",
      "Amount of real words [12, 3, 1, 9, 2]\n"
     ]
    }
   ],
   "source": [
    "from heb_words import get_article_content, get_words_to_replace\n",
    "\n",
    "\n",
    "def test_q2():\n",
    "    # The five articles\n",
    "    url1 = 'https://www.ynet.co.il/laisha/article/b1al4tzyp'\n",
    "    url2= 'https://www.ynet.co.il/news/article/bjoj5g2fp'\n",
    "    url3 ='https://www.ynet.co.il/news/article/h1vvdb3y6'\n",
    "    url4 ='https://www.ynet.co.il/news/article/skqk5k2kp'\n",
    "    url5 = 'https://www.ynet.co.il/news/article/hj5gj13yp'\n",
    "    articles = [url1,url2,url3,url4,url5]\n",
    "    # The text extracted from each article\n",
    "    article_texts = list(map(get_article_content,articles))\n",
    "    # apply the core function of question 2 on all articles.\n",
    "    words_replace_in_articles =list(map(get_words_to_replace,article_texts ))\n",
    "    # count how many words were indiciated as numbers\n",
    "    counted_words_to_replace = list(map(len, words_replace_in_articles))\n",
    "    # personally checked how many words that represent numbers are there in the i-th article.\n",
    "    human_checks = [12,3,1,9,2]    \n",
    "    print(f'Amount of words detected by the function {counted_words_to_replace}\\nAmount of real words {human_checks}')\n",
    "\n",
    "test_q2()"
   ]
  },
  {
   "cell_type": "markdown",
   "id": "6e038b19",
   "metadata": {},
   "source": [
    "## Results\n",
    "I checked 5 articles, from the same news website. I counted manually the number of occurences of words that represent number and compared it to the function's output.\n",
    "\n",
    "The results for question 2 are as showed:\n",
    "| Article | False positive | False negative | Total words that are representing numbers |\n",
    "|---------|----------------|----------------|------------------------------------------|\n",
    "|       1 |              0 |              0 |                                        12 |\n",
    "|       2 |              0 |              1 |                                        3 |\n",
    "|       3 |              0 |              0 |                                        1 |\n",
    "|       4 |              0 |              0 |                                        9 |\n",
    "|       5 |              1 |              0 |                                       2 |\n",
    "\n",
    "Although only five articles were considered, the function for question 2 performed well.\n",
    "I'll show two types of false detection:\n",
    "1. Multiple meanings, e.g שבעה can be interpreted as funeral in Hebrew and seven.\n",
    "2. Wrong translation. Since the function considers the English translation of the Hebrew word, there are cases where the word can be translated into two words with different meaning. e.g שני can be translated to scarlet or two.\n"
   ]
  },
  {
   "cell_type": "markdown",
   "id": "80475721-092c-455d-810a-082fdec94abc",
   "metadata": {},
   "source": [
    "# Question 3\n"
   ]
  },
  {
   "cell_type": "markdown",
   "id": "f05b34da",
   "metadata": {},
   "source": [
    "In order to solve the question, I assume a term is being counted most likely will appear after the number that quantifies it.\n",
    "\n",
    "* This function takes a text input and searches for patterns where a number is followed by a space and another word. \n",
    "* The regular expression used in the function also allows for an optional prefix in Hebrew characters before the number. \n",
    "* The function returns a list of tuples, where each tuple contains the extracted number and the following word."
   ]
  },
  {
   "cell_type": "code",
   "execution_count": 9,
   "id": "3ff16cf5",
   "metadata": {},
   "outputs": [],
   "source": [
    "import re\n",
    "\n",
    "\n",
    "def find_num_word_tuple(text):\n",
    "    pattern = r'\\b[א-ת]*(\\d+)\\s*([a-zA-Zא-ת]+)\\b'\n",
    "    matches = re.findall(pattern, text)\n",
    "    results = []\n",
    "    for match in matches:\n",
    "        number, word = match\n",
    "        results.append((number,word))\n",
    "    return results"
   ]
  },
  {
   "cell_type": "markdown",
   "id": "7476beb3",
   "metadata": {},
   "source": [
    "I assumed that that word that appears after the number is a noun, which is the counted term.\n",
    "\n",
    "The following function determine if a Hebrew word is a noun by translating it to English and analyzing its part of speech. "
   ]
  },
  {
   "cell_type": "code",
   "execution_count": 10,
   "id": "4db8d139",
   "metadata": {},
   "outputs": [],
   "source": [
    "import nltk\n",
    "from nltk import pos_tag\n",
    "from nltk.tokenize import word_tokenize\n",
    "nltk.download('punkt', quiet=True)\n",
    "nltk.download('averaged_perceptron_tagger', quiet=True)\n",
    "def is_noun(heb_word):\n",
    "    translated = translate_hebrew_to_english(heb_word)\n",
    "    words = word_tokenize(translated)\n",
    "    tagged_words = pos_tag(words)\n",
    "    # Check if the first word is tagged as a noun (NN or NNS)\n",
    "    if tagged_words and tagged_words[0][1] in ['NN', 'NNS']:\n",
    "        return True\n",
    "    else:\n",
    "        return False\n"
   ]
  },
  {
   "cell_type": "markdown",
   "id": "b291c9bc",
   "metadata": {},
   "source": [
    "Finally we combine the functions together, in order to answer question 3.\n",
    "The function below extract and display numeric values along with their associated Hebrew words in a DataFrame."
   ]
  },
  {
   "cell_type": "code",
   "execution_count": 12,
   "id": "07055b90",
   "metadata": {},
   "outputs": [
    {
     "name": "stdout",
     "output_type": "stream",
     "text": [
      "    Number     Word\n",
      "0        3     ימים\n",
      "1        2      שאר\n",
      "2       18     שנים\n",
      "3        5     דקות\n",
      "4        2   אמניות\n",
      "5        3  סיפורים\n",
      "6       14   מחזיקה\n",
      "7       84     מנחל\n",
      "8       25      שנה\n",
      "9        7     שנים\n",
      "10       2      שכל\n",
      "11       2    קלטות\n",
      "12       2     אותו\n",
      "13      15      שנה\n",
      "14      10     שנים\n",
      "15       2    הצגות\n"
     ]
    }
   ],
   "source": [
    "import pandas as pd\n",
    "\n",
    "from heb_words import find_num_word_tuple, is_noun\n",
    "\n",
    "def question3(text):\n",
    "    # the given text is after the processing done in question2, therefore we can look for numeric values\n",
    "    results = find_num_word_tuple(text)\n",
    "    # filter the words that aren't nouns\n",
    "    filter_nouns_func = lambda x: True if is_noun(x[1]) else False\n",
    "    results = list(filter(filter_nouns_func,results))                \n",
    "    n = len(results)\n",
    "    data = {\"Number\": [int(results[i][0]) for i in range(n)], \n",
    "            \"Word\": [results[i][1] for i in range (n)]}\n",
    "    df = pd.DataFrame(data)\n",
    "    return df\n",
    "\n",
    "with open('modified_content.txt', 'r') as modified_file:\n",
    "        content = modified_file.read()\n",
    "        print(question3(content))"
   ]
  },
  {
   "cell_type": "markdown",
   "id": "84ec8a25",
   "metadata": {},
   "source": [
    "## Testing - Question 3\n",
    "For two articles, I compared the output for question3 function and verified it manually. \n",
    "\n",
    "The output for the article:\n",
    "https://www.ynet.co.il/news/article/hj5gj13yp\n",
    "\n",
    "\n",
    "|   | Number | Word   |\n",
    "|---|--------|--------|\n",
    "| 0 |      9 | צווים   |\n",
    "| 1 |     27 | הירשמו |\n",
    "| 2 |     10 | ימים   |\n",
    "\n",
    "The row with index 1 is false and it is explained by viewing the article - the word and the number where part of a promotion text within the article (not part of the text). The rest is correct.\n"
   ]
  },
  {
   "cell_type": "markdown",
   "id": "20f2d826",
   "metadata": {},
   "source": [
    "\n",
    "The output for the article:\n",
    "https://www.ynet.co.il/news/article/bjoj5g2fp\n",
    "|    | Number | Word    |\n",
    "|----|--------|---------|\n",
    "|  0 |      3 | קצינים  |\n",
    "|  1 |    535 | חיילי    |\n",
    "|  2 |     27 | מבאר    |\n",
    "|  3 |     10 | בוגרים   |\n",
    "|  4 |     24 | מתל     |\n",
    "|  5 |    108 | ימים    |\n",
    "|  6 |     51 | בגולני   |\n",
    "|  7 |      1 | בדור     |\n",
    "|  8 |      7 | לית     |\n",
    "|  9 |      0 | בבית    |\n",
    "| 10 |     98 | פתחה   |\n",
    "| 11 |     50 | מחבלים |\n",
    "\n",
    "The results are fetched 7 quantified terms, while the rest are false positive.\n",
    "The function fetches all the right numbers, but includes other cases as well:\n",
    "1. Age - In the case of \"בן 24 מתל אביב\" it returns מתל as the quantified term. Since מתל can be translated to english as a noun, it is returned as a qauntified term.\n",
    "2. Numbered term - In the case where a number appears, but instead of quantity its part of the meaning of the word. e.g גדוד 51 בגולני, where the number is related to the number that appears before the number and it doesn't reflect a quantity but instead it's part of the name.\n",
    "3. Time - in the case of a number shown in the text such as 13:00 בבית העלמין, the number doesn't meant quantity but instead describe a time.\n"
   ]
  },
  {
   "cell_type": "markdown",
   "id": "9ac0f9d1",
   "metadata": {},
   "source": [
    "# Question 4\n",
    "In order to sort all the articles by their similirity to a single article chosen, we will have to define some metrics.\n",
    "I chose to use TF-IDF for vectorization of the articles and then define similarity with cosine similarity.\n",
    "\n",
    "I would approach the problem using the following pipeline:\n",
    "## Preprocessing\n",
    "Parse the text and modify it:\n",
    "1. Convert words to their original form (lemmatization)\n",
    "2. Remove punctuation\n",
    "3. In English, change the case of all words to lower case\n",
    "4. Each number that is written as a word needs to converted to a number.\n",
    "\n",
    "## Vectorize each document\n",
    "Compute the TF-IDF vectors for each document. TF-IDF takes into account the importance of each term in a document relative to its frequency in the entire corpus.\n",
    "\n",
    "* To compute TF (term frequency) we compute occurrence of a word in a article / the number of words in the article. \n",
    "\n",
    "* To compute the IDF (Inverse document frequency) we compute the log(total number of articles/(the number of documents containing that query word + 1))\n",
    "\n",
    "* To compute TF-IDF we multiply those two values.\n",
    "\n",
    "We take following steps:\n",
    "1. Create a set of all the words in the corpus.\n",
    "2. Create the following matrix:\n",
    "\n",
    "| articles | w1 | w2 | w3 | w4 |\n",
    "| -------- | --- | --- | --- | --- |\n",
    "| a1       |    |    |    |    |\n",
    "| a2       |    |    |    |    |\n",
    "| a3       |    |    |    |    |\n",
    " \n",
    "\n",
    "For each cell, compute the tf-idf value. For example, `TF(w1,a1)*IDF(w1,corpus)` will be the value for the dirst cell.\n",
    "\n"
   ]
  },
  {
   "cell_type": "markdown",
   "id": "4c220a90",
   "metadata": {},
   "source": [
    "## Calculate the pairwise distance\n",
    "Now we have a matrix that holds the TF-IDF value for each word, we can use cosine similarity to measure the similarity between two vectors, based on their angle.\n",
    "\n",
    "* Cosine similarity is defined as: $S_C(A1,A2) = cos(\\theta)= \\frac{A1.A2}{(||A1||*||A2||)}$.\n",
    "In words, it means dividing the dot product of two vectors A1,A2 by the multiplication of their magnitude.\n",
    "\n",
    "* Calculating each pair of articles, we can store the results in a matrix:\n",
    "\n",
    "| articles | a1  | a2  | a3  |\n",
    "| -------- | --- | --- | --- |\n",
    "| a1       |  1  |     |     |\n",
    "| a2       |     |  1  |     |\n",
    "| a3       |     |     |  1  |\n",
    "\n",
    "* If we want to sort the articles based upon how similar they are to article $i$, we can extract the $i$ row with the corresponding article number.\n",
    "* The higher (maximum value is 1) the value, the more similar it is to article $i$.\n",
    "\n",
    "\n",
    "## Result\n",
    "Finally, we can arrange the extracted row in descending order based on the values and present the outcomes in a tabular format.\n"
   ]
  },
  {
   "cell_type": "markdown",
   "id": "74ed1833",
   "metadata": {},
   "source": [
    "# Question 5\n",
    "\n",
    "The function's input will be urls of the two articles and their corresponding tables (output of question 3).\n",
    "\n",
    "First we create a table that contain only the rows that appear on both tables, meaning the rows were the terms being counted are identical.\n",
    "\n",
    "In order to determine the liklyhood of two identical object that were countedm we will determine some values:\n",
    "* The similarity of the two articles - The more similar the articles are, it increases the option the objects (with the same name) are identical.\n",
    "* The level of similarity of the paragraphs where the term was mentioned - if we use question 4 output on the two paragraphs, we get the similarity value of the two. The more similar, it is more likely that they are talking about the same term.\n",
    "* If the value assigned as the quantity of that term is equal on both articles, it's another reason to link the two terms.\n",
    "\n",
    "\n",
    "If we aggregate these we can calculate the probability the two terms are identical."
   ]
  }
 ],
 "metadata": {
  "kernelspec": {
   "display_name": "Python 3 (ipykernel)",
   "language": "python",
   "name": "python3"
  },
  "language_info": {
   "codemirror_mode": {
    "name": "ipython",
    "version": 3
   },
   "file_extension": ".py",
   "mimetype": "text/x-python",
   "name": "python",
   "nbconvert_exporter": "python",
   "pygments_lexer": "ipython3",
   "version": "3.11.6"
  }
 },
 "nbformat": 4,
 "nbformat_minor": 5
}
