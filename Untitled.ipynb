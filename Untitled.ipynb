{
 "cells": [
  {
   "cell_type": "markdown",
   "id": "04a3a55d-260f-4078-86b7-7348498f53a6",
   "metadata": {},
   "source": [
    "# Question 1 \n",
    "fetch the content of a news article, using BeautifulSoup to interact with the HTML."
   ]
  },
  {
   "cell_type": "code",
   "execution_count": 21,
   "id": "d0b19065-cd22-4f28-a34c-32e209a1b7fe",
   "metadata": {},
   "outputs": [
    {
     "name": "stdout",
     "output_type": "stream",
     "text": [
      "\u001b[1;31merror\u001b[0m: \u001b[1mexternally-managed-environment\u001b[0m\n",
      "\n",
      "\u001b[31m×\u001b[0m This environment is externally managed\n",
      "\u001b[31m╰─>\u001b[0m To install Python packages system-wide, try 'pacman -S\n",
      "\u001b[31m   \u001b[0m python-xyz', where xyz is the package you are trying to\n",
      "\u001b[31m   \u001b[0m install.\n",
      "\u001b[31m   \u001b[0m \n",
      "\u001b[31m   \u001b[0m If you wish to install a non-Arch-packaged Python package,\n",
      "\u001b[31m   \u001b[0m create a virtual environment using 'python -m venv path/to/venv'.\n",
      "\u001b[31m   \u001b[0m Then use path/to/venv/bin/python and path/to/venv/bin/pip.\n",
      "\u001b[31m   \u001b[0m \n",
      "\u001b[31m   \u001b[0m If you wish to install a non-Arch packaged Python application,\n",
      "\u001b[31m   \u001b[0m it may be easiest to use 'pipx install xyz', which will manage a\n",
      "\u001b[31m   \u001b[0m virtual environment for you. Make sure you have python-pipx\n",
      "\u001b[31m   \u001b[0m installed via pacman.\n",
      "\n",
      "\u001b[1;35mnote\u001b[0m: If you believe this is a mistake, please contact your Python installation or OS distribution provider. You can override this, at the risk of breaking your Python installation or OS, by passing --break-system-packages.\n",
      "\u001b[1;36mhint\u001b[0m: See PEP 668 for the detailed specification.\n",
      "The content was saved to a file\n"
     ]
    }
   ],
   "source": [
    "!pip install bs4\n",
    "import requests\n",
    "from bs4 import BeautifulSoup\n",
    "url = 'https://www.ynet.co.il/news/article/sjgohwqyt'\n",
    "response = requests.get(url)\n",
    "soup = BeautifulSoup(response.text, 'html.parser')\n",
    "\n",
    "# Fetch the text via the class name (might need to change it for other websites)\n",
    "# This class name is applicable for some articles on ynet.co.il\n",
    "class_name = 'public-DraftEditor-content' \n",
    "article_content = soup.find('div', {'class': class_name})\n",
    "\n",
    "if article_content:\n",
    "    article_text = article_content.get_text()\n",
    "    print(\"The content was saved to a file\")\n",
    "    with open('article_content.txt', 'w', encoding='utf-8') as file:\n",
    "        file.write(article_text)\n",
    "\n",
    "else:\n",
    "    print('Article content wasnt fetched')\n",
    "\n"
   ]
  },
  {
   "cell_type": "markdown",
   "id": "0f450b0c-561d-4e16-8916-1d0b9ff844f0",
   "metadata": {},
   "source": [
    "# Question 2\n",
    "## Idea\n",
    "I approached the problem in following way:\n",
    "1. Use regex in order to identify the words that represent a number in hebrew within a text, using a set of indicative words\n",
    "2. Translate those words into English\n",
    "3. Convert the English words into integers\n",
    "4. Replace the Hebrew words in the original text with their corresponding integers"
   ]
  },
  {
   "cell_type": "code",
   "execution_count": 19,
   "id": "42941ab2-e32a-48b8-be27-4a03732bce97",
   "metadata": {},
   "outputs": [],
   "source": [
    "heb_numbers_keywords = ['אחת', 'שתיים', 'שלוש', 'ארבע', 'חמש', 'שש', 'שבע', 'שמונה', 'תשע', 'עשר', 'עשרה', 'עשרים',\n",
    "                        'שלושים', 'ארבעים', 'חמישים', 'שישים', 'שבעים', 'שמונים', 'תשעים', 'מאה', 'מאתיים', 'שלוש מאות',\n",
    "                        'ארבע מאות', 'חמש מאות', 'שש מאות', 'שבע מאות', 'שמונה מאות', 'תשע מאות', 'אלף', 'אלפיים',\n",
    "                        'שלושת אלפים', 'ארבעת אלפים', 'חמשת אלפים', 'ששת אלפים', 'שבעת אלפים', 'שמונת אלפים',\n",
    "                        'תשעת אלפים', 'עשרת אלפים', 'מיליון', 'אחת', 'אחד', 'שני', 'שתי', 'שתיים', 'שניים', 'שלוש',\n",
    "                        'שלושה', 'ארבע', 'ארבעה', 'חמש', 'חמישה', 'שש', 'שישה', 'שבע', 'שבעה', 'שמונה', 'תשע', 'תשעה',\n",
    "                        'עשר', 'עשרה']"
   ]
  },
  {
   "cell_type": "code",
   "execution_count": 20,
   "id": "ed4aa413-69f5-4393-baff-913a13d2c7b4",
   "metadata": {
    "editable": true,
    "slideshow": {
     "slide_type": ""
    },
    "tags": []
   },
   "outputs": [
    {
     "name": "stdout",
     "output_type": "stream",
     "text": [
      "\u001b[1;31merror\u001b[0m: \u001b[1mexternally-managed-environment\u001b[0m\n",
      "\n",
      "\u001b[31m×\u001b[0m This environment is externally managed\n",
      "\u001b[31m╰─>\u001b[0m To install Python packages system-wide, try 'pacman -S\n",
      "\u001b[31m   \u001b[0m python-xyz', where xyz is the package you are trying to\n",
      "\u001b[31m   \u001b[0m install.\n",
      "\u001b[31m   \u001b[0m \n",
      "\u001b[31m   \u001b[0m If you wish to install a non-Arch-packaged Python package,\n",
      "\u001b[31m   \u001b[0m create a virtual environment using 'python -m venv path/to/venv'.\n",
      "\u001b[31m   \u001b[0m Then use path/to/venv/bin/python and path/to/venv/bin/pip.\n",
      "\u001b[31m   \u001b[0m \n",
      "\u001b[31m   \u001b[0m If you wish to install a non-Arch packaged Python application,\n",
      "\u001b[31m   \u001b[0m it may be easiest to use 'pipx install xyz', which will manage a\n",
      "\u001b[31m   \u001b[0m virtual environment for you. Make sure you have python-pipx\n",
      "\u001b[31m   \u001b[0m installed via pacman.\n",
      "\n",
      "\u001b[1;35mnote\u001b[0m: If you believe this is a mistake, please contact your Python installation or OS distribution provider. You can override this, at the risk of breaking your Python installation or OS, by passing --break-system-packages.\n",
      "\u001b[1;36mhint\u001b[0m: See PEP 668 for the detailed specification.\n"
     ]
    },
    {
     "ename": "ModuleNotFoundError",
     "evalue": "No module named 'word2number'",
     "output_type": "error",
     "traceback": [
      "\u001b[0;31m---------------------------------------------------------------------------\u001b[0m",
      "\u001b[0;31mModuleNotFoundError\u001b[0m                       Traceback (most recent call last)",
      "Cell \u001b[0;32mIn[20], line 2\u001b[0m\n\u001b[1;32m      1\u001b[0m get_ipython()\u001b[38;5;241m.\u001b[39msystem(\u001b[38;5;124m'\u001b[39m\u001b[38;5;124mpip install word2number\u001b[39m\u001b[38;5;124m'\u001b[39m)\n\u001b[0;32m----> 2\u001b[0m \u001b[38;5;28;01mfrom\u001b[39;00m \u001b[38;5;21;01mword2number\u001b[39;00m \u001b[38;5;28;01mimport\u001b[39;00m w2n\n\u001b[1;32m      3\u001b[0m \u001b[38;5;28;01mimport\u001b[39;00m \u001b[38;5;21;01mre\u001b[39;00m\n",
      "\u001b[0;31mModuleNotFoundError\u001b[0m: No module named 'word2number'"
     ]
    }
   ],
   "source": [
    "!pip install word2number\n",
    "from word2number import w2n\n",
    "import re"
   ]
  },
  {
   "cell_type": "markdown",
   "id": "01b2c47f-b477-4bfc-9b3f-3982c6bba649",
   "metadata": {},
   "source": [
    "## Implementation\n",
    "The function find_sequences recieves two arguments: the text to search in and the list of words to search for.\n",
    "This regex was designed with hebrew linguistics in mind, capturing single words that represent a number of a \"string\" of words that together form a number i.e \"מאה חמישים ושלוש\"\n",
    "\n"
   ]
  },
  {
   "cell_type": "code",
   "execution_count": null,
   "id": "9397f25f-1902-48c8-b509-2a0910676ab0",
   "metadata": {},
   "outputs": [],
   "source": [
    "def find_sequences(sentence, words):\n",
    "    pattern = r'\\b(?:ו?' + '|ו?'.join(words) + r')(?:\\s(?:ו?' + '|ו?'.join(words) + r'))*\\b'\n",
    "    matches = re.findall(pattern, sentence)\n",
    "    return matches\n"
   ]
  },
  {
   "cell_type": "code",
   "execution_count": null,
   "id": "e9d753f5-0757-4dde-a192-aff293d5609c",
   "metadata": {},
   "outputs": [],
   "source": [
    "# Test the find_sequence function\n",
    "s1= \"מאה חמישים ושלוש סתם בדיקה\"\n",
    "s2= \" בדיקה מאתיים ארבעים ושתיים\"\n",
    "s3= \"שבעים ושבע כגדכג\"\n",
    "res = []\n",
    "for s in [s1,s2,s3]:\n",
    "    res+= find_sequences(s, heb_numbers_keywords )\n",
    "res"
   ]
  },
  {
   "cell_type": "code",
   "execution_count": null,
   "id": "36207477-1214-47a7-b2c1-03086cb49371",
   "metadata": {},
   "outputs": [],
   "source": [
    "def question2(text):\n",
    "    words_to_replace = find_sequences(text, heb_numbers_keywords)\n",
    "    eng_version = [translate_hebrew_to_english(w) for w in words_to_replace]\n",
    "    nums = [w2n.word_to_num(w) for w in eng_version]\n",
    "    for i, word_num_heb in enumerate(sorted(words_to_replace, key=len, reverse=True)):\n",
    "        text.replace(word_num_heb, nums[i], 1)\n",
    "    return text"
   ]
  },
  {
   "cell_type": "code",
   "execution_count": null,
   "id": "49bd0b1c-1c32-4f11-a41a-e96071180a8c",
   "metadata": {},
   "outputs": [],
   "source": []
  }
 ],
 "metadata": {
  "kernelspec": {
   "display_name": "Python 3 (ipykernel)",
   "language": "python",
   "name": "python3"
  },
  "language_info": {
   "codemirror_mode": {
    "name": "ipython",
    "version": 3
   },
   "file_extension": ".py",
   "mimetype": "text/x-python",
   "name": "python",
   "nbconvert_exporter": "python",
   "pygments_lexer": "ipython3",
   "version": "3.11.6"
  }
 },
 "nbformat": 4,
 "nbformat_minor": 5
}
